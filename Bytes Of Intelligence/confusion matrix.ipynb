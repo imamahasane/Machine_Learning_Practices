{
 "cells": [
  {
   "cell_type": "code",
   "execution_count": 7,
   "id": "6a323ed9",
   "metadata": {},
   "outputs": [],
   "source": [
    "def confusion_matrix_random(actual_value, predicted_value):\n",
    "    if len(actual_value) != len(predicted_value):\n",
    "        raise ValueError('The number of actual and pradected value mast be same.')\n",
    "        \n",
    "    TP, TN, FP, FN = 0, 0, 0, 0\n",
    "    \n",
    "    for actual, predict in zip(actual_value, predicted_value):\n",
    "        if actual == 1:\n",
    "            if predict == 1:\n",
    "                TP += 1\n",
    "                \n",
    "            else:\n",
    "                FN += 1\n",
    "                \n",
    "        else:\n",
    "            if predict == 1:\n",
    "                FP += 1\n",
    "            else:\n",
    "                TN += 1\n",
    "                \n",
    "    return TP, TN, FP, FN\n",
    "    \n",
    "actual_value = [1, 0, 1, 1, 0, 0, 1, 0, 1, 1]\n",
    "predicted_value = [1, 0, 1, 0, 1, 0, 1, 1, 1, 0]\n",
    "\n",
    "TP, TN, FP, FN = confusion_matrix_random(actual_value, predicted_value)"
   ]
  },
  {
   "cell_type": "code",
   "execution_count": 8,
   "id": "e1450e21",
   "metadata": {},
   "outputs": [
    {
     "data": {
      "text/plain": [
       "4"
      ]
     },
     "execution_count": 8,
     "metadata": {},
     "output_type": "execute_result"
    }
   ],
   "source": [
    "TP"
   ]
  },
  {
   "cell_type": "code",
   "execution_count": 9,
   "id": "16d50b82",
   "metadata": {},
   "outputs": [
    {
     "data": {
      "text/plain": [
       "2"
      ]
     },
     "execution_count": 9,
     "metadata": {},
     "output_type": "execute_result"
    }
   ],
   "source": [
    "TN"
   ]
  },
  {
   "cell_type": "code",
   "execution_count": 10,
   "id": "b556a3e8",
   "metadata": {},
   "outputs": [
    {
     "data": {
      "text/plain": [
       "2"
      ]
     },
     "execution_count": 10,
     "metadata": {},
     "output_type": "execute_result"
    }
   ],
   "source": [
    "FP"
   ]
  },
  {
   "cell_type": "code",
   "execution_count": 11,
   "id": "6de4739a",
   "metadata": {},
   "outputs": [
    {
     "data": {
      "text/plain": [
       "2"
      ]
     },
     "execution_count": 11,
     "metadata": {},
     "output_type": "execute_result"
    }
   ],
   "source": [
    "FN"
   ]
  },
  {
   "cell_type": "code",
   "execution_count": null,
   "id": "7c1e69ec",
   "metadata": {},
   "outputs": [],
   "source": []
  }
 ],
 "metadata": {
  "kernelspec": {
   "display_name": "Python 3 (ipykernel)",
   "language": "python",
   "name": "python3"
  },
  "language_info": {
   "codemirror_mode": {
    "name": "ipython",
    "version": 3
   },
   "file_extension": ".py",
   "mimetype": "text/x-python",
   "name": "python",
   "nbconvert_exporter": "python",
   "pygments_lexer": "ipython3",
   "version": "3.10.9"
  }
 },
 "nbformat": 4,
 "nbformat_minor": 5
}
