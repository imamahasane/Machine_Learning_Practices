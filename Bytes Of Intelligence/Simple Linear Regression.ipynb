{
 "cells": [
  {
   "cell_type": "code",
   "execution_count": 39,
   "id": "fe41403a",
   "metadata": {},
   "outputs": [],
   "source": [
    "# Import Library\n",
    "\n",
    "import numpy as np\n",
    "import matplotlib.pyplot as plt\n",
    "\n",
    "from sklearn.model_selection import train_test_split\n",
    "from sklearn.linear_model import LinearRegression\n",
    "from sklearn.metrics import mean_squared_error, r2_score"
   ]
  },
  {
   "cell_type": "code",
   "execution_count": 40,
   "id": "6a35653e",
   "metadata": {},
   "outputs": [],
   "source": [
    "np.random.seed(42)\n",
    "X = 2*np.random.rand(100, 1)\n",
    "y = 4 + 3 * X + np.random.rand(100, 1)"
   ]
  },
  {
   "cell_type": "code",
   "execution_count": 41,
   "id": "8d456e86",
   "metadata": {},
   "outputs": [
    {
     "data": {
      "text/plain": [
       "array([[0.74908024],\n",
       "       [1.90142861],\n",
       "       [1.46398788],\n",
       "       [1.19731697],\n",
       "       [0.31203728],\n",
       "       [0.31198904],\n",
       "       [0.11616722],\n",
       "       [1.73235229],\n",
       "       [1.20223002],\n",
       "       [1.41614516],\n",
       "       [0.04116899],\n",
       "       [1.9398197 ],\n",
       "       [1.66488528],\n",
       "       [0.42467822],\n",
       "       [0.36364993],\n",
       "       [0.36680902],\n",
       "       [0.60848449],\n",
       "       [1.04951286],\n",
       "       [0.86389004],\n",
       "       [0.58245828],\n",
       "       [1.22370579],\n",
       "       [0.27898772],\n",
       "       [0.5842893 ],\n",
       "       [0.73272369],\n",
       "       [0.91213997],\n",
       "       [1.57035192],\n",
       "       [0.39934756],\n",
       "       [1.02846888],\n",
       "       [1.18482914],\n",
       "       [0.09290083],\n",
       "       [1.2150897 ],\n",
       "       [0.34104825],\n",
       "       [0.13010319],\n",
       "       [1.89777107],\n",
       "       [1.93126407],\n",
       "       [1.6167947 ],\n",
       "       [0.60922754],\n",
       "       [0.19534423],\n",
       "       [1.36846605],\n",
       "       [0.88030499],\n",
       "       [0.24407647],\n",
       "       [0.99035382],\n",
       "       [0.06877704],\n",
       "       [1.8186408 ],\n",
       "       [0.51755996],\n",
       "       [1.32504457],\n",
       "       [0.62342215],\n",
       "       [1.04013604],\n",
       "       [1.09342056],\n",
       "       [0.36970891],\n",
       "       [1.93916926],\n",
       "       [1.55026565],\n",
       "       [1.87899788],\n",
       "       [1.7896547 ],\n",
       "       [1.19579996],\n",
       "       [1.84374847],\n",
       "       [0.176985  ],\n",
       "       [0.39196572],\n",
       "       [0.09045458],\n",
       "       [0.65066066],\n",
       "       [0.77735458],\n",
       "       [0.54269806],\n",
       "       [1.65747502],\n",
       "       [0.71350665],\n",
       "       [0.56186902],\n",
       "       [1.08539217],\n",
       "       [0.28184845],\n",
       "       [1.60439396],\n",
       "       [0.14910129],\n",
       "       [1.97377387],\n",
       "       [1.54448954],\n",
       "       [0.39743136],\n",
       "       [0.01104423],\n",
       "       [1.63092286],\n",
       "       [1.41371469],\n",
       "       [1.45801434],\n",
       "       [1.54254069],\n",
       "       [0.1480893 ],\n",
       "       [0.71693146],\n",
       "       [0.23173812],\n",
       "       [1.72620685],\n",
       "       [1.24659625],\n",
       "       [0.66179605],\n",
       "       [0.1271167 ],\n",
       "       [0.62196464],\n",
       "       [0.65036664],\n",
       "       [1.45921236],\n",
       "       [1.27511494],\n",
       "       [1.77442549],\n",
       "       [0.94442985],\n",
       "       [0.23918849],\n",
       "       [1.42648957],\n",
       "       [1.5215701 ],\n",
       "       [1.1225544 ],\n",
       "       [1.54193436],\n",
       "       [0.98759119],\n",
       "       [1.04546566],\n",
       "       [0.85508204],\n",
       "       [0.05083825],\n",
       "       [0.21578285]])"
      ]
     },
     "execution_count": 41,
     "metadata": {},
     "output_type": "execute_result"
    }
   ],
   "source": [
    "X"
   ]
  },
  {
   "cell_type": "code",
   "execution_count": 42,
   "id": "9dd1e5a4",
   "metadata": {},
   "outputs": [
    {
     "data": {
      "text/plain": [
       "array([[ 6.2786699 ],\n",
       "       [10.34069625],\n",
       "       [ 8.70631963],\n",
       "       [ 8.1005216 ],\n",
       "       [ 5.84367832],\n",
       "       [ 5.18525935],\n",
       "       [ 4.7588846 ],\n",
       "       [ 9.95260801],\n",
       "       [ 7.83548824],\n",
       "       [ 8.32541538],\n",
       "       [ 4.41325842],\n",
       "       [ 9.9806804 ],\n",
       "       [ 9.9243535 ],\n",
       "       [ 6.08215504],\n",
       "       [ 5.72435356],\n",
       "       [ 5.97188765],\n",
       "       [ 6.62912553],\n",
       "       [ 7.33510865],\n",
       "       [ 7.48422911],\n",
       "       [ 6.28671708],\n",
       "       [ 8.47855752],\n",
       "       [ 5.73305446],\n",
       "       [ 6.07087137],\n",
       "       [ 6.30822298],\n",
       "       [ 6.96435507],\n",
       "       [ 9.13816356],\n",
       "       [ 6.01605746],\n",
       "       [ 7.94613721],\n",
       "       [ 7.56143954],\n",
       "       [ 4.78944978],\n",
       "       [ 8.06268011],\n",
       "       [ 5.24525255],\n",
       "       [ 4.51017493],\n",
       "       [10.03092839],\n",
       "       [10.7367019 ],\n",
       "       [ 9.17358702],\n",
       "       [ 6.34647324],\n",
       "       [ 5.28905164],\n",
       "       [ 8.46902776],\n",
       "       [ 7.61269705],\n",
       "       [ 5.6946767 ],\n",
       "       [ 7.22284376],\n",
       "       [ 4.70357963],\n",
       "       [ 9.75680072],\n",
       "       [ 5.83752038],\n",
       "       [ 8.01202065],\n",
       "       [ 6.47983079],\n",
       "       [ 7.62308715],\n",
       "       [ 7.33174043],\n",
       "       [ 5.3877732 ],\n",
       "       [10.72577365],\n",
       "       [ 8.89035883],\n",
       "       [ 9.78188852],\n",
       "       [ 9.85841686],\n",
       "       [ 8.57305033],\n",
       "       [ 9.77330068],\n",
       "       [ 5.20309056],\n",
       "       [ 5.93751679],\n",
       "       [ 4.50900128],\n",
       "       [ 6.68019833],\n",
       "       [ 6.69984687],\n",
       "       [ 6.26040002],\n",
       "       [ 9.60595477],\n",
       "       [ 6.67629464],\n",
       "       [ 5.77589683],\n",
       "       [ 8.09147899],\n",
       "       [ 5.16632541],\n",
       "       [ 8.99970039],\n",
       "       [ 4.488079  ],\n",
       "       [10.51221456],\n",
       "       [ 9.31103298],\n",
       "       [ 5.20888192],\n",
       "       [ 4.54522576],\n",
       "       [ 9.11926435],\n",
       "       [ 8.88631685],\n",
       "       [ 8.54840944],\n",
       "       [ 9.31855982],\n",
       "       [ 4.83100326],\n",
       "       [ 7.08752436],\n",
       "       [ 4.8327353 ],\n",
       "       [ 9.51968691],\n",
       "       [ 7.85326228],\n",
       "       [ 6.91008177],\n",
       "       [ 5.25868946],\n",
       "       [ 6.12383556],\n",
       "       [ 6.61108398],\n",
       "       [ 9.19485927],\n",
       "       [ 8.38054564],\n",
       "       [ 9.85292703],\n",
       "       [ 7.07514184],\n",
       "       [ 4.81066824],\n",
       "       [ 9.17668448],\n",
       "       [ 9.46512835],\n",
       "       [ 8.00076464],\n",
       "       [ 8.96483287],\n",
       "       [ 7.31198315],\n",
       "       [ 7.86235266],\n",
       "       [ 7.46235637],\n",
       "       [ 5.03960118],\n",
       "       [ 5.42722411]])"
      ]
     },
     "execution_count": 42,
     "metadata": {},
     "output_type": "execute_result"
    }
   ],
   "source": [
    "y"
   ]
  },
  {
   "cell_type": "code",
   "execution_count": 43,
   "id": "046a0bc3",
   "metadata": {},
   "outputs": [],
   "source": [
    "X_train, X_test, y_train, y_test = train_test_split(X,\n",
    "                                                   y,\n",
    "                                                   test_size= 0.2,\n",
    "                                                   random_state= 42)"
   ]
  },
  {
   "cell_type": "code",
   "execution_count": 44,
   "id": "e215a500",
   "metadata": {},
   "outputs": [
    {
     "data": {
      "text/plain": [
       "array([[1.84374847],\n",
       "       [1.77442549],\n",
       "       [0.39934756],\n",
       "       [0.06877704],\n",
       "       [1.97377387],\n",
       "       [0.36680902],\n",
       "       [0.24407647],\n",
       "       [1.04546566],\n",
       "       [1.41614516],\n",
       "       [0.01104423],\n",
       "       [1.9398197 ],\n",
       "       [1.04013604],\n",
       "       [0.65036664],\n",
       "       [1.18482914],\n",
       "       [1.1225544 ],\n",
       "       [0.31198904],\n",
       "       [0.28184845],\n",
       "       [1.08539217],\n",
       "       [1.6167947 ],\n",
       "       [0.60848449],\n",
       "       [0.36970891],\n",
       "       [1.93126407],\n",
       "       [1.73235229],\n",
       "       [0.98759119],\n",
       "       [1.02846888],\n",
       "       [0.58245828],\n",
       "       [1.24659625],\n",
       "       [1.57035192],\n",
       "       [1.65747502],\n",
       "       [0.42467822],\n",
       "       [0.91213997],\n",
       "       [1.19731697],\n",
       "       [1.04951286],\n",
       "       [1.36846605],\n",
       "       [1.20223002],\n",
       "       [0.71693146],\n",
       "       [0.11616722],\n",
       "       [0.56186902],\n",
       "       [0.60922754],\n",
       "       [0.94442985],\n",
       "       [0.176985  ],\n",
       "       [0.21578285],\n",
       "       [1.19579996],\n",
       "       [1.8186408 ],\n",
       "       [1.93916926],\n",
       "       [1.60439396],\n",
       "       [0.62342215],\n",
       "       [0.14910129],\n",
       "       [0.54269806],\n",
       "       [0.85508204],\n",
       "       [0.23173812],\n",
       "       [0.99035382],\n",
       "       [0.09045458],\n",
       "       [1.09342056],\n",
       "       [0.05083825],\n",
       "       [0.39196572],\n",
       "       [1.45801434],\n",
       "       [0.13010319],\n",
       "       [1.54193436],\n",
       "       [0.65066066],\n",
       "       [0.71350665],\n",
       "       [0.62196464],\n",
       "       [0.19534423],\n",
       "       [0.09290083],\n",
       "       [1.90142861],\n",
       "       [1.87899788],\n",
       "       [0.27898772],\n",
       "       [1.46398788],\n",
       "       [0.73272369],\n",
       "       [1.27511494],\n",
       "       [1.42648957],\n",
       "       [1.41371469],\n",
       "       [1.45921236],\n",
       "       [0.66179605],\n",
       "       [1.22370579],\n",
       "       [0.77735458],\n",
       "       [0.39743136],\n",
       "       [0.36364993],\n",
       "       [1.5215701 ],\n",
       "       [1.55026565]])"
      ]
     },
     "execution_count": 44,
     "metadata": {},
     "output_type": "execute_result"
    }
   ],
   "source": [
    "X_train"
   ]
  },
  {
   "cell_type": "code",
   "execution_count": 45,
   "id": "06e7ffca",
   "metadata": {},
   "outputs": [
    {
     "data": {
      "text/plain": [
       "array([[ 9.77330068],\n",
       "       [ 9.85292703],\n",
       "       [ 6.01605746],\n",
       "       [ 4.70357963],\n",
       "       [10.51221456],\n",
       "       [ 5.97188765],\n",
       "       [ 5.6946767 ],\n",
       "       [ 7.86235266],\n",
       "       [ 8.32541538],\n",
       "       [ 4.54522576],\n",
       "       [ 9.9806804 ],\n",
       "       [ 7.62308715],\n",
       "       [ 6.61108398],\n",
       "       [ 7.56143954],\n",
       "       [ 8.00076464],\n",
       "       [ 5.18525935],\n",
       "       [ 5.16632541],\n",
       "       [ 8.09147899],\n",
       "       [ 9.17358702],\n",
       "       [ 6.62912553],\n",
       "       [ 5.3877732 ],\n",
       "       [10.7367019 ],\n",
       "       [ 9.95260801],\n",
       "       [ 7.31198315],\n",
       "       [ 7.94613721],\n",
       "       [ 6.28671708],\n",
       "       [ 7.85326228],\n",
       "       [ 9.13816356],\n",
       "       [ 9.60595477],\n",
       "       [ 6.08215504],\n",
       "       [ 6.96435507],\n",
       "       [ 8.1005216 ],\n",
       "       [ 7.33510865],\n",
       "       [ 8.46902776],\n",
       "       [ 7.83548824],\n",
       "       [ 7.08752436],\n",
       "       [ 4.7588846 ],\n",
       "       [ 5.77589683],\n",
       "       [ 6.34647324],\n",
       "       [ 7.07514184],\n",
       "       [ 5.20309056],\n",
       "       [ 5.42722411],\n",
       "       [ 8.57305033],\n",
       "       [ 9.75680072],\n",
       "       [10.72577365],\n",
       "       [ 8.99970039],\n",
       "       [ 6.47983079],\n",
       "       [ 4.488079  ],\n",
       "       [ 6.26040002],\n",
       "       [ 7.46235637],\n",
       "       [ 4.8327353 ],\n",
       "       [ 7.22284376],\n",
       "       [ 4.50900128],\n",
       "       [ 7.33174043],\n",
       "       [ 5.03960118],\n",
       "       [ 5.93751679],\n",
       "       [ 8.54840944],\n",
       "       [ 4.51017493],\n",
       "       [ 8.96483287],\n",
       "       [ 6.68019833],\n",
       "       [ 6.67629464],\n",
       "       [ 6.12383556],\n",
       "       [ 5.28905164],\n",
       "       [ 4.78944978],\n",
       "       [10.34069625],\n",
       "       [ 9.78188852],\n",
       "       [ 5.73305446],\n",
       "       [ 8.70631963],\n",
       "       [ 6.30822298],\n",
       "       [ 8.38054564],\n",
       "       [ 9.17668448],\n",
       "       [ 8.88631685],\n",
       "       [ 9.19485927],\n",
       "       [ 6.91008177],\n",
       "       [ 8.47855752],\n",
       "       [ 6.69984687],\n",
       "       [ 5.20888192],\n",
       "       [ 5.72435356],\n",
       "       [ 9.46512835],\n",
       "       [ 8.89035883]])"
      ]
     },
     "execution_count": 45,
     "metadata": {},
     "output_type": "execute_result"
    }
   ],
   "source": [
    "y_train"
   ]
  },
  {
   "cell_type": "code",
   "execution_count": 46,
   "id": "e6b00677",
   "metadata": {},
   "outputs": [
    {
     "data": {
      "text/plain": [
       "array([[0.1271167 ],\n",
       "       [1.7896547 ],\n",
       "       [1.54448954],\n",
       "       [1.32504457],\n",
       "       [0.51755996],\n",
       "       [0.88030499],\n",
       "       [0.5842893 ],\n",
       "       [1.72620685],\n",
       "       [0.04116899],\n",
       "       [0.74908024],\n",
       "       [0.86389004],\n",
       "       [1.2150897 ],\n",
       "       [1.63092286],\n",
       "       [1.89777107],\n",
       "       [0.23918849],\n",
       "       [0.31203728],\n",
       "       [1.54254069],\n",
       "       [0.1480893 ],\n",
       "       [1.66488528],\n",
       "       [0.34104825]])"
      ]
     },
     "execution_count": 46,
     "metadata": {},
     "output_type": "execute_result"
    }
   ],
   "source": [
    "X_test"
   ]
  },
  {
   "cell_type": "code",
   "execution_count": 47,
   "id": "7a964fa7",
   "metadata": {},
   "outputs": [
    {
     "data": {
      "text/plain": [
       "array([[ 5.25868946],\n",
       "       [ 9.85841686],\n",
       "       [ 9.31103298],\n",
       "       [ 8.01202065],\n",
       "       [ 5.83752038],\n",
       "       [ 7.61269705],\n",
       "       [ 6.07087137],\n",
       "       [ 9.51968691],\n",
       "       [ 4.41325842],\n",
       "       [ 6.2786699 ],\n",
       "       [ 7.48422911],\n",
       "       [ 8.06268011],\n",
       "       [ 9.11926435],\n",
       "       [10.03092839],\n",
       "       [ 4.81066824],\n",
       "       [ 5.84367832],\n",
       "       [ 9.31855982],\n",
       "       [ 4.83100326],\n",
       "       [ 9.9243535 ],\n",
       "       [ 5.24525255]])"
      ]
     },
     "execution_count": 47,
     "metadata": {},
     "output_type": "execute_result"
    }
   ],
   "source": [
    "y_test"
   ]
  },
  {
   "cell_type": "code",
   "execution_count": 48,
   "id": "2dbed6d8",
   "metadata": {},
   "outputs": [],
   "source": [
    " model = LinearRegression()"
   ]
  },
  {
   "cell_type": "code",
   "execution_count": 49,
   "id": "7318be10",
   "metadata": {},
   "outputs": [
    {
     "data": {
      "text/html": [
       "<style>#sk-container-id-3 {color: black;background-color: white;}#sk-container-id-3 pre{padding: 0;}#sk-container-id-3 div.sk-toggleable {background-color: white;}#sk-container-id-3 label.sk-toggleable__label {cursor: pointer;display: block;width: 100%;margin-bottom: 0;padding: 0.3em;box-sizing: border-box;text-align: center;}#sk-container-id-3 label.sk-toggleable__label-arrow:before {content: \"▸\";float: left;margin-right: 0.25em;color: #696969;}#sk-container-id-3 label.sk-toggleable__label-arrow:hover:before {color: black;}#sk-container-id-3 div.sk-estimator:hover label.sk-toggleable__label-arrow:before {color: black;}#sk-container-id-3 div.sk-toggleable__content {max-height: 0;max-width: 0;overflow: hidden;text-align: left;background-color: #f0f8ff;}#sk-container-id-3 div.sk-toggleable__content pre {margin: 0.2em;color: black;border-radius: 0.25em;background-color: #f0f8ff;}#sk-container-id-3 input.sk-toggleable__control:checked~div.sk-toggleable__content {max-height: 200px;max-width: 100%;overflow: auto;}#sk-container-id-3 input.sk-toggleable__control:checked~label.sk-toggleable__label-arrow:before {content: \"▾\";}#sk-container-id-3 div.sk-estimator input.sk-toggleable__control:checked~label.sk-toggleable__label {background-color: #d4ebff;}#sk-container-id-3 div.sk-label input.sk-toggleable__control:checked~label.sk-toggleable__label {background-color: #d4ebff;}#sk-container-id-3 input.sk-hidden--visually {border: 0;clip: rect(1px 1px 1px 1px);clip: rect(1px, 1px, 1px, 1px);height: 1px;margin: -1px;overflow: hidden;padding: 0;position: absolute;width: 1px;}#sk-container-id-3 div.sk-estimator {font-family: monospace;background-color: #f0f8ff;border: 1px dotted black;border-radius: 0.25em;box-sizing: border-box;margin-bottom: 0.5em;}#sk-container-id-3 div.sk-estimator:hover {background-color: #d4ebff;}#sk-container-id-3 div.sk-parallel-item::after {content: \"\";width: 100%;border-bottom: 1px solid gray;flex-grow: 1;}#sk-container-id-3 div.sk-label:hover label.sk-toggleable__label {background-color: #d4ebff;}#sk-container-id-3 div.sk-serial::before {content: \"\";position: absolute;border-left: 1px solid gray;box-sizing: border-box;top: 0;bottom: 0;left: 50%;z-index: 0;}#sk-container-id-3 div.sk-serial {display: flex;flex-direction: column;align-items: center;background-color: white;padding-right: 0.2em;padding-left: 0.2em;position: relative;}#sk-container-id-3 div.sk-item {position: relative;z-index: 1;}#sk-container-id-3 div.sk-parallel {display: flex;align-items: stretch;justify-content: center;background-color: white;position: relative;}#sk-container-id-3 div.sk-item::before, #sk-container-id-3 div.sk-parallel-item::before {content: \"\";position: absolute;border-left: 1px solid gray;box-sizing: border-box;top: 0;bottom: 0;left: 50%;z-index: -1;}#sk-container-id-3 div.sk-parallel-item {display: flex;flex-direction: column;z-index: 1;position: relative;background-color: white;}#sk-container-id-3 div.sk-parallel-item:first-child::after {align-self: flex-end;width: 50%;}#sk-container-id-3 div.sk-parallel-item:last-child::after {align-self: flex-start;width: 50%;}#sk-container-id-3 div.sk-parallel-item:only-child::after {width: 0;}#sk-container-id-3 div.sk-dashed-wrapped {border: 1px dashed gray;margin: 0 0.4em 0.5em 0.4em;box-sizing: border-box;padding-bottom: 0.4em;background-color: white;}#sk-container-id-3 div.sk-label label {font-family: monospace;font-weight: bold;display: inline-block;line-height: 1.2em;}#sk-container-id-3 div.sk-label-container {text-align: center;}#sk-container-id-3 div.sk-container {/* jupyter's `normalize.less` sets `[hidden] { display: none; }` but bootstrap.min.css set `[hidden] { display: none !important; }` so we also need the `!important` here to be able to override the default hidden behavior on the sphinx rendered scikit-learn.org. See: https://github.com/scikit-learn/scikit-learn/issues/21755 */display: inline-block !important;position: relative;}#sk-container-id-3 div.sk-text-repr-fallback {display: none;}</style><div id=\"sk-container-id-3\" class=\"sk-top-container\"><div class=\"sk-text-repr-fallback\"><pre>LinearRegression()</pre><b>In a Jupyter environment, please rerun this cell to show the HTML representation or trust the notebook. <br />On GitHub, the HTML representation is unable to render, please try loading this page with nbviewer.org.</b></div><div class=\"sk-container\" hidden><div class=\"sk-item\"><div class=\"sk-estimator sk-toggleable\"><input class=\"sk-toggleable__control sk-hidden--visually\" id=\"sk-estimator-id-3\" type=\"checkbox\" checked><label for=\"sk-estimator-id-3\" class=\"sk-toggleable__label sk-toggleable__label-arrow\">LinearRegression</label><div class=\"sk-toggleable__content\"><pre>LinearRegression()</pre></div></div></div></div></div>"
      ],
      "text/plain": [
       "LinearRegression()"
      ]
     },
     "execution_count": 49,
     "metadata": {},
     "output_type": "execute_result"
    }
   ],
   "source": [
    "model.fit(X, y)"
   ]
  },
  {
   "cell_type": "code",
   "execution_count": 50,
   "id": "24189f6f",
   "metadata": {},
   "outputs": [
    {
     "data": {
      "text/plain": [
       "array([[ 4.89281654],\n",
       "       [ 9.85255673],\n",
       "       [ 9.12117164],\n",
       "       [ 8.4665159 ],\n",
       "       [ 6.05760023],\n",
       "       [ 7.13975358],\n",
       "       [ 6.25666946],\n",
       "       [ 9.66327693],\n",
       "       [ 4.63641439],\n",
       "       [ 6.74827942],\n",
       "       [ 7.09078394],\n",
       "       [ 8.13849479],\n",
       "       [ 9.37902246],\n",
       "       [10.17509319],\n",
       "       [ 5.22715294],\n",
       "       [ 5.44447794],\n",
       "       [ 9.11535777],\n",
       "       [ 4.95538273],\n",
       "       [ 9.48034033],\n",
       "       [ 5.53102444]])"
      ]
     },
     "execution_count": 50,
     "metadata": {},
     "output_type": "execute_result"
    }
   ],
   "source": [
    "P_R = model.predict(X_test)\n",
    "P_R"
   ]
  },
  {
   "cell_type": "code",
   "execution_count": 51,
   "id": "cd2812d8",
   "metadata": {},
   "outputs": [
    {
     "data": {
      "image/png": "[encoded data removed]",
      "text/plain": [
       "<Figure size 640x480 with 1 Axes>"
      ]
     },
     "metadata": {},
     "output_type": "display_data"
    }
   ],
   "source": [
    "plt.scatter(X_test, y_test, color= 'b', label= 'Actual Datapoints')\n",
    "plt.plot(X_test, P_R, color= 'r', label= \"Predicted Best Fitter Regression Line\")\n",
    "plt.xlabel('X_axis')\n",
    "plt.ylabel('Y_axis')\n",
    "plt.legend()\n",
    "plt.title('Simple Linear Regression')\n",
    "plt.show()"
   ]
  },
  {
   "cell_type": "code",
   "execution_count": 52,
   "id": "12169d03",
   "metadata": {},
   "outputs": [],
   "source": [
    "MSE = mean_squared_error(y_test, P_R)\n",
    "R2_scores = r2_score(y_test, P_R)"
   ]
  },
  {
   "cell_type": "code",
   "execution_count": 53,
   "id": "d15bef30",
   "metadata": {},
   "outputs": [
    {
     "data": {
      "text/plain": [
       "0.09456458674429793"
      ]
     },
     "execution_count": 53,
     "metadata": {},
     "output_type": "execute_result"
    }
   ],
   "source": [
    "MSE"
   ]
  },
  {
   "cell_type": "code",
   "execution_count": 54,
   "id": "51c38624",
   "metadata": {},
   "outputs": [
    {
     "data": {
      "text/plain": [
       "0.9745313473967043"
      ]
     },
     "execution_count": 54,
     "metadata": {},
     "output_type": "execute_result"
    }
   ],
   "source": [
    "R2_scores"
   ]
  },
  {
   "cell_type": "code",
   "execution_count": null,
   "id": "c5e1545a",
   "metadata": {},
   "outputs": [],
   "source": []
  }
 ],
 "metadata": {
  "kernelspec": {
   "display_name": "Python 3 (ipykernel)",
   "language": "python",
   "name": "python3"
  },
  "language_info": {
   "codemirror_mode": {
    "name": "ipython",
    "version": 3
   },
   "file_extension": ".py",
   "mimetype": "text/x-python",
   "name": "python",
   "nbconvert_exporter": "python",
   "pygments_lexer": "ipython3",
   "version": "3.10.9"
  }
 },
 "nbformat": 4,
 "nbformat_minor": 5
}
