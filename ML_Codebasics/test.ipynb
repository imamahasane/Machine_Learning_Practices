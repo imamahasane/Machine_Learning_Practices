{
 "cells": [
  {
   "cell_type": "code",
   "execution_count": 2,
   "id": "197845da",
   "metadata": {},
   "outputs": [
    {
     "name": "stdout",
     "output_type": "stream",
     "text": [
      "Name: Md Imam Ahasan\n",
      "\tTnterested In:\n",
      "\t1. Data Science\n",
      "\t2. Machine Learning\n",
      "\t3. Artificial intelligence\n",
      "\t4. Computer vision\n"
     ]
    }
   ],
   "source": [
    "name = \"Md Imam Ahasan\"\n",
    "intarested = ['Data Science', \n",
    "              'Machine Learning', \n",
    "              'Artificial intelligence', \n",
    "              'Computer vision']\n",
    "print(f'Name: {name}\\n\\tTnterested In:')\n",
    "for i, valu in enumerate(intarested):\n",
    "    print(f'\\t{i + 1}. {valu}')"
   ]
  },
  {
   "cell_type": "code",
   "execution_count": null,
   "id": "d7aa8f75",
   "metadata": {},
   "outputs": [],
   "source": []
  }
 ],
 "metadata": {
  "kernelspec": {
   "display_name": "Python 3 (ipykernel)",
   "language": "python",
   "name": "python3"
  },
  "language_info": {
   "codemirror_mode": {
    "name": "ipython",
    "version": 3
   },
   "file_extension": ".py",
   "mimetype": "text/x-python",
   "name": "python",
   "nbconvert_exporter": "python",
   "pygments_lexer": "ipython3",
   "version": "3.8.8"
  }
 },
 "nbformat": 4,
 "nbformat_minor": 5
}
