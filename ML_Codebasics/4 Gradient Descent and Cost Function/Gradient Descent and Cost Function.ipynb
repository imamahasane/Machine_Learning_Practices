{
 "cells": [
  {
   "cell_type": "code",
   "execution_count": 31,
   "id": "743275f7",
   "metadata": {},
   "outputs": [],
   "source": [
    "import numpy as np\n",
    "import matplotlib.pyplot as plt"
   ]
  },
  {
   "cell_type": "code",
   "execution_count": 32,
   "id": "a06a6442",
   "metadata": {},
   "outputs": [],
   "source": [
    "%matplotlib inline\n",
    "def gradient_descent(x, y):\n",
    "    m_curr = b_curr = 0\n",
    "    rate = 0.01\n",
    "    n = len(x)\n",
    "    \n",
    "    plt.scatter(x, y, color = 'red', marker = '+', linewidth = '5')\n",
    "\n",
    "    for i in range(10000):\n",
    "        y_predicted = m_curr * x + b_curr\n",
    "        plt.plot(x, y_predicted, color = 'green')\n",
    "        \n",
    "        md = -(2 / n) * sum (x * (y - y_predicted))\n",
    "        yd = -(2 / n) * sum (y - y_predicted)\n",
    "        \n",
    "        m_curr = m_curr - rate * md\n",
    "        b_curr = b_curr - rate * yd\n"
   ]
  },
  {
   "cell_type": "code",
   "execution_count": 33,
   "id": "41cbcb77",
   "metadata": {},
   "outputs": [],
   "source": [
    "x = np.array([1, 2, 3, 4, 5])\n",
    "y = np.array([5, 7, 9, 11, 13])"
   ]
  },
  {
   "cell_type": "code",
   "execution_count": null,
   "id": "e5815301",
   "metadata": {},
   "outputs": [],
   "source": [
    "gradient_descent(x, y)"
   ]
  },
  {
   "cell_type": "code",
   "execution_count": null,
   "id": "56930bde",
   "metadata": {},
   "outputs": [],
   "source": []
  }
 ],
 "metadata": {
  "kernelspec": {
   "display_name": "Python 3 (ipykernel)",
   "language": "python",
   "name": "python3"
  },
  "language_info": {
   "codemirror_mode": {
    "name": "ipython",
    "version": 3
   },
   "file_extension": ".py",
   "mimetype": "text/x-python",
   "name": "python",
   "nbconvert_exporter": "python",
   "pygments_lexer": "ipython3",
   "version": "3.8.8"
  }
 },
 "nbformat": 4,
 "nbformat_minor": 5
}
